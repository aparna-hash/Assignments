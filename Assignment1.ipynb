{
 "cells": [
  {
   "cell_type": "markdown",
   "id": "72c7a417-9181-4d0f-a6d0-d68658909136",
   "metadata": {},
   "source": [
    "# My  Jupyter Notebook on IBM Watson Studio\n",
    "### C G Aparna\n",
    "*I am interested in Data Science because I love to play around with data*"
   ]
  },
  {
   "cell_type": "markdown",
   "id": "afa08971-affd-43ae-8bfe-c8d53ce7189b",
   "metadata": {},
   "source": [
    "### The following code tests the Gauss formula"
   ]
  },
  {
   "cell_type": "code",
   "execution_count": 5,
   "id": "362181be-9a49-4a61-b769-24be9b96c549",
   "metadata": {},
   "outputs": [
    {
     "data": {
      "text/plain": [
       "True"
      ]
     },
     "execution_count": 5,
     "metadata": {},
     "output_type": "execute_result"
    }
   ],
   "source": [
    "def gauss(n):\n",
    "    return(n*(n+1))/2\n",
    "gauss(100) == sum(range(101))"
   ]
  },
  {
   "cell_type": "markdown",
   "id": "e57d7715-8f4c-4f9c-9dd9-ea9b34f6d8ae",
   "metadata": {},
   "source": [
    "The three tasks done are the following\n",
    "- Bulleted list\n",
    "- ~~Strikethrough~~\n",
    "- Hyperlink\n",
    "- <a href = \"https://dataplatform.cloud.ibm.com/gallery\">IBM Cloud Gallery</a>"
   ]
  }
 ],
 "metadata": {
  "kernelspec": {
   "display_name": "Python",
   "language": "python",
   "name": "conda-env-python-py"
  },
  "language_info": {
   "codemirror_mode": {
    "name": "ipython",
    "version": 3
   },
   "file_extension": ".py",
   "mimetype": "text/x-python",
   "name": "python",
   "nbconvert_exporter": "python",
   "pygments_lexer": "ipython3",
   "version": "3.7.12"
  }
 },
 "nbformat": 4,
 "nbformat_minor": 5
}
